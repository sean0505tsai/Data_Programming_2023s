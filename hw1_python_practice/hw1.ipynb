{
 "cells": [
  {
   "attachments": {},
   "cell_type": "markdown",
   "metadata": {},
   "source": [
    "- Problem1"
   ]
  },
  {
   "cell_type": "code",
   "execution_count": null,
   "metadata": {},
   "outputs": [],
   "source": [
    "# table 9x9 in html\n",
    "def table9x9_html():\n",
    "    result = \"<table border=1>\\n\"\n",
    "    for r in range(1, 10):\n",
    "        result += \"<tr> \\n\"\n",
    "        for c in range(1, 10):\n",
    "            if (c == 1):\n",
    "                result += f\"<th>{r}x{c}={r*c}</th> \"\n",
    "            else:\n",
    "                result += f\"<th>{r}x{c}={r*c:2}</th> \"        \n",
    "        result += '\\n</tr>\\n'\n",
    "        \n",
    "    result += \"\\n</table>\"    \n",
    "    return result\n",
    "        \n",
    "# print( table9x9_html() )\n",
    "\n",
    "result = table9x9_html()\n",
    "\n",
    "fname = \"./Table9x9.html\"\n",
    "f = open(fname, \"w\")\n",
    "f.write(result)\n",
    "f.close()\n",
    "\n",
    "with open(fname, 'r') as f:\n",
    "    content = f.read()\n",
    "    print(content)"
   ]
  },
  {
   "attachments": {},
   "cell_type": "markdown",
   "metadata": {},
   "source": [
    "- Problem2"
   ]
  },
  {
   "cell_type": "code",
   "execution_count": 1,
   "metadata": {},
   "outputs": [
    {
     "name": "stdout",
     "output_type": "stream",
     "text": [
      "['1x1= 1 ', '1x2= 2 ', '1x3= 3 ', '1x4= 4 ', '1x5= 5 ', '1x6= 6 ', '1x7= 7 ', '1x8= 8 ', '1x9= 9 ']\n",
      "['       ', '2x2= 4 ', '2x3= 6 ', '2x4= 8 ', '2x5=10 ', '2x6=12 ', '2x7=14 ', '2x8=16 ', '       ']\n",
      "['       ', '       ', '3x3= 9 ', '3x4=12 ', '3x5=15 ', '3x6=18 ', '3x7=21 ', '       ', '       ']\n",
      "['       ', '       ', '       ', '4x4=16 ', '4x5=20 ', '4x6=24 ', '       ', '       ', '       ']\n",
      "['       ', '       ', '       ', '       ', '5x5=25 ', '       ', '       ', '       ', '       ']\n",
      "['       ', '       ', '       ', '6x4=24 ', '6x5=30 ', '6x6=36 ', '       ', '       ', '       ']\n",
      "['       ', '       ', '7x3=21 ', '7x4=28 ', '7x5=35 ', '7x6=42 ', '7x7=49 ', '       ', '       ']\n",
      "['       ', '8x2=16 ', '8x3=24 ', '8x4=32 ', '8x5=40 ', '8x6=48 ', '8x7=56 ', '8x8=64 ', '       ']\n",
      "['9x1= 9 ', '9x2=18 ', '9x3=27 ', '9x4=36 ', '9x5=45 ', '9x6=54 ', '9x7=63 ', '9x8=72 ', '9x9=81 ']\n"
     ]
    }
   ],
   "source": [
    "lst2d = []\n",
    "lst1d = []\n",
    "for i in range(1, 6):\n",
    "    for k in range(1, i):\n",
    "       lst1d.append(\"       \")\n",
    "    for j in range(i, 11-i):\n",
    "       lst1d.append(f\"{i}x{j}={i*j:2} \")\n",
    "    for k in range(1, i):\n",
    "       lst1d.append(\"       \")\n",
    "    lst2d.append(lst1d)\n",
    "    lst1d = []\n",
    "for i in range(6, 10):\n",
    "    for k in range(1, 10-i):\n",
    "       lst1d.append(\"       \")\n",
    "    for j in range(10-i, i+1):\n",
    "       lst1d.append(f\"{i}x{j}={i*j:2} \")\n",
    "    for k in range(1, 10-i):\n",
    "       lst1d.append(\"       \")\n",
    "    lst2d.append(lst1d)\n",
    "    lst1d = []\n",
    "\n",
    "for lst in lst2d:\n",
    "   print(lst)"
   ]
  },
  {
   "attachments": {},
   "cell_type": "markdown",
   "metadata": {},
   "source": [
    "- Problem3"
   ]
  },
  {
   "cell_type": "code",
   "execution_count": 5,
   "metadata": {},
   "outputs": [],
   "source": [
    "f1 = open(\"img_part/img_part0.dat\", \"rb\")\n",
    "f2 = open(\"img_part/img_part1.dat\", \"rb\")\n",
    "data1 = f1.read()\n",
    "data2 = f2.read()\n",
    "\n",
    "data3 = data1 + data2\n",
    "\n",
    "fname = \"img_part/108820018.webp\"\n",
    "f = open(fname, \"wb\")\n",
    "f.write(data3)\n",
    "f.close()\n",
    "f1.close()\n",
    "f2.close()\n"
   ]
  },
  {
   "attachments": {},
   "cell_type": "markdown",
   "metadata": {},
   "source": [
    "- Problem4"
   ]
  },
  {
   "cell_type": "code",
   "execution_count": 23,
   "metadata": {},
   "outputs": [
    {
     "name": "stdout",
     "output_type": "stream",
     "text": [
      "\n",
      "1x1= 1 1x2= 2 1x3= 3 1x4= 4 1x5= 5 1x6= 6 1x7= 7 1x8= 8 1x9= 9 \n",
      "2x1= 2 2x2= 4 2x3= 6 2x4= 8 2x5=10 2x6=12 2x7=14 2x8=16 2x9=18 \n",
      "3x1= 3 3x2= 6 3x3= 9 3x4=12 3x5=15 3x6=18 3x7=21 3x8=24 3x9=27 \n",
      "4x1= 4 4x2= 8 4x3=12 4x4=16 4x5=20 4x6=24 4x7=28 4x8=32 4x9=36 \n",
      "5x1= 5 5x2=10 5x3=15 5x4=20 5x5=25 5x6=30 5x7=35 5x8=40 5x9=45 \n",
      "6x1= 6 6x2=12 6x3=18 6x4=24 6x5=30 6x6=36 6x7=42 6x8=48 6x9=54 \n",
      "7x1= 7 7x2=14 7x3=21 7x4=28 7x5=35 7x6=42 7x7=49 7x8=56 7x9=63 \n",
      "8x1= 8 8x2=16 8x3=24 8x4=32 8x5=40 8x6=48 8x7=56 8x8=64 8x9=72 \n",
      "9x1= 9 9x2=18 9x3=27 9x4=36 9x5=45 9x6=54 9x7=63 9x8=72 9x9=81 \n"
     ]
    }
   ],
   "source": [
    "from Module_108820018 import table9x9\n",
    "from Module_108820018 import fac_table\n",
    "fac_table(25)\n",
    "table9x9()"
   ]
  },
  {
   "attachments": {},
   "cell_type": "markdown",
   "metadata": {},
   "source": [
    "- Problem5"
   ]
  },
  {
   "cell_type": "code",
   "execution_count": 36,
   "metadata": {},
   "outputs": [
    {
     "name": "stdout",
     "output_type": "stream",
     "text": [
      "Move Disk 1 from A to C\n",
      "Move Disk 2 from A to B\n",
      "Move Disk 1 from C to B\n",
      "Move Disk 3 from A to C\n",
      "Move Disk 1 from B to A\n",
      "Move Disk 2 from B to C\n",
      "Move Disk 1 from A to C\n"
     ]
    }
   ],
   "source": [
    "def TOH(n, Sour, Aux, Des):\n",
    "    if (n == 1):\n",
    "        print(f\"Move Disk {n} from {Sour} to {Des}\")\n",
    "    else:\n",
    "        TOH(n-1, Sour, Des, Aux)\n",
    "        print(f\"Move Disk {n} from {Sour} to {Des}\")\n",
    "        TOH(n-1,Aux,Sour,Des)\n",
    "\n",
    "TOH(3, \"A\", \"B\", \"C\")"
   ]
  },
  {
   "attachments": {},
   "cell_type": "markdown",
   "metadata": {},
   "source": [
    "- Problem 6"
   ]
  },
  {
   "cell_type": "code",
   "execution_count": 35,
   "metadata": {},
   "outputs": [
    {
     "name": "stdout",
     "output_type": "stream",
     "text": [
      "Radius: 1\n",
      "Area: 3.141592653589793\n",
      "Perimeter: 6.283185307179586\n"
     ]
    }
   ],
   "source": [
    "import math\n",
    "class Circle:\n",
    "    def __init__(self, r = 1):\n",
    "        self.r = r  # 物件的資料成員\n",
    "        \n",
    "    def area(self): # 物件的成員函式\n",
    "        return math.pi * self.r**2\n",
    "    \n",
    "    def perimeter(self):\n",
    "        return 2* math.pi * self.r\n",
    "    \n",
    "    def about(self):\n",
    "        print(f\"Radius: {self.r}\")\n",
    "        print(f\"Area: {self.area()}\")\n",
    "        print(f\"Perimeter: {self.perimeter()}\")\n",
    "\n",
    "c = Circle()\n",
    "c.about()"
   ]
  },
  {
   "attachments": {},
   "cell_type": "markdown",
   "metadata": {},
   "source": [
    "- Problem 7"
   ]
  },
  {
   "cell_type": "code",
   "execution_count": 34,
   "metadata": {},
   "outputs": [
    {
     "name": "stdout",
     "output_type": "stream",
     "text": [
      "Area of Rectangle 1:  8\n",
      "Area of Rectangle 2:  21\n",
      "Area of Rectangle 3:  2\n",
      "Area of Rectangle 4:  63\n",
      "Area of Rectangle 5:  21\n",
      "Total Area:  115\n"
     ]
    }
   ],
   "source": [
    "import random\n",
    "\n",
    "class Rectangle:\n",
    "    def __init__(self, height = 1, width = 1):\n",
    "        self.h = height\n",
    "        self.w = width\n",
    "        \n",
    "    def area(self): # 物件的成員函式\n",
    "        return self.h * self.w\n",
    "    \n",
    "    def perimeter(self):\n",
    "        return 2*(self.h + self.w)\n",
    "    \n",
    "    def about(self):\n",
    "        print(f\"Height: {self.h}\")\n",
    "        print(f\"Width: {self.w}\")\n",
    "        print(f\"Area: {self.area()}\")\n",
    "        print(f\"Perimeter: {self.perimeter()}\")\n",
    "\n",
    "total_area = 0\n",
    "\n",
    "rect1 = Rectangle(random.randint(1, 10), random.randint(1, 10))\n",
    "print(\"Area of Rectangle 1: \", rect1.area())\n",
    "total_area += rect1.area()\n",
    "\n",
    "rect2 = Rectangle(random.randint(1, 10), random.randint(1, 10))\n",
    "print(\"Area of Rectangle 2: \", rect2.area())\n",
    "total_area += rect2.area()\n",
    "\n",
    "rect3 = Rectangle(random.randint(1, 10), random.randint(1, 10))\n",
    "print(\"Area of Rectangle 3: \", rect3.area())\n",
    "total_area += rect3.area()\n",
    "\n",
    "rect4 = Rectangle(random.randint(1, 10), random.randint(1, 10))\n",
    "print(\"Area of Rectangle 4: \", rect4.area())\n",
    "total_area += rect4.area()\n",
    "\n",
    "rect5 = Rectangle(random.randint(1, 10), random.randint(1, 10))\n",
    "print(\"Area of Rectangle 5: \", rect5.area())\n",
    "total_area += rect5.area()\n",
    "\n",
    "total_area = rect1.area() + rect2.area() + rect3.area() + rect4.area() + rect5.area()\n",
    "print(\"Total Area: \", total_area)\n"
   ]
  }
 ],
 "metadata": {
  "kernelspec": {
   "display_name": "Python 3",
   "language": "python",
   "name": "python3"
  },
  "language_info": {
   "codemirror_mode": {
    "name": "ipython",
    "version": 3
   },
   "file_extension": ".py",
   "mimetype": "text/x-python",
   "name": "python",
   "nbconvert_exporter": "python",
   "pygments_lexer": "ipython3",
   "version": "3.11.0"
  },
  "orig_nbformat": 4
 },
 "nbformat": 4,
 "nbformat_minor": 2
}
