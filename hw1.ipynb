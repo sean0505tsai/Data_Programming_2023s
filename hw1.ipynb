{
 "cells": [
  {
   "attachments": {},
   "cell_type": "markdown",
   "metadata": {},
   "source": [
    "- Problem1"
   ]
  },
  {
   "cell_type": "code",
   "execution_count": null,
   "metadata": {},
   "outputs": [],
   "source": [
    "# table 9x9 in html\n",
    "def table9x9_html():\n",
    "    result = \"<table border=1>\\n\"\n",
    "    for r in range(1, 10):\n",
    "        result += \"<tr> \\n\"\n",
    "        for c in range(1, 10):\n",
    "            if (c == 1):\n",
    "                result += f\"<th>{r}x{c}={r*c}</th> \"\n",
    "            else:\n",
    "                result += f\"<th>{r}x{c}={r*c:2}</th> \"        \n",
    "        result += '\\n</tr>\\n'\n",
    "        \n",
    "    result += \"\\n</table>\"    \n",
    "    return result\n",
    "        \n",
    "# print( table9x9_html() )\n",
    "\n",
    "result = table9x9_html()\n",
    "\n",
    "fname = \"./Table9x9.html\"\n",
    "f = open(fname, \"w\")\n",
    "f.write(result)\n",
    "f.close()\n",
    "\n",
    "with open(fname, 'r') as f:\n",
    "    content = f.read()\n",
    "    print(content)"
   ]
  },
  {
   "attachments": {},
   "cell_type": "markdown",
   "metadata": {},
   "source": [
    "- Problem2"
   ]
  },
  {
   "cell_type": "code",
   "execution_count": 2,
   "metadata": {},
   "outputs": [
    {
     "name": "stdout",
     "output_type": "stream",
     "text": [
      "['1x1= 1 ', '1x2= 2 ', '1x3= 3 ', '1x4= 4 ', '1x5= 5 ', '1x6= 6 ', '1x7= 7 ', '1x8= 8 ', '1x9= 9 ']\n",
      "['       ', '2x2= 4 ', '2x3= 6 ', '2x4= 8 ', '2x5=10 ', '2x6=12 ', '2x7=14 ', '2x8=16 ', '       ']\n",
      "['       ', '       ', '3x3= 9 ', '3x4=12 ', '3x5=15 ', '3x6=18 ', '3x7=21 ', '       ', '       ']\n",
      "['       ', '       ', '       ', '4x4=16 ', '4x5=20 ', '4x6=24 ', '       ', '       ', '       ']\n",
      "['       ', '       ', '       ', '       ', '5x5=25 ', '       ', '       ', '       ', '       ']\n",
      "['       ', '       ', '       ', '6x4=24 ', '6x5=30 ', '6x6=36 ', '       ', '       ', '       ']\n",
      "['       ', '       ', '7x3=21 ', '7x4=28 ', '7x5=35 ', '7x6=42 ', '7x7=49 ', '       ', '       ']\n",
      "['       ', '8x2=16 ', '8x3=24 ', '8x4=32 ', '8x5=40 ', '8x6=48 ', '8x7=56 ', '8x8=64 ', '       ']\n",
      "['9x1= 9 ', '9x2=18 ', '9x3=27 ', '9x4=36 ', '9x5=45 ', '9x6=54 ', '9x7=63 ', '9x8=72 ', '9x9=81 ']\n"
     ]
    }
   ],
   "source": [
    "lst2d = []\n",
    "lst1d = []\n",
    "for i in range(1, 6):\n",
    "    for k in range(1, i):\n",
    "       lst1d.append(\"       \")\n",
    "    for j in range(i, 11-i):\n",
    "       lst1d.append(f\"{i}x{j}={i*j:2} \")\n",
    "    for k in range(1, i):\n",
    "       lst1d.append(\"       \")\n",
    "    lst2d.append(lst1d)\n",
    "    lst1d = []\n",
    "for i in range(6, 10):\n",
    "    for k in range(1, 10-i):\n",
    "       lst1d.append(\"       \")\n",
    "    for j in range(10-i, i+1):\n",
    "       lst1d.append(f\"{i}x{j}={i*j:2} \")\n",
    "    for k in range(1, 10-i):\n",
    "       lst1d.append(\"       \")\n",
    "    lst2d.append(lst1d)\n",
    "    lst1d = []\n",
    "\n",
    "for lst1d in lst2d:\n",
    "   print(lst1d)"
   ]
  },
  {
   "attachments": {},
   "cell_type": "markdown",
   "metadata": {},
   "source": [
    "- Problem3"
   ]
  },
  {
   "cell_type": "code",
   "execution_count": null,
   "metadata": {},
   "outputs": [],
   "source": []
  }
 ],
 "metadata": {
  "kernelspec": {
   "display_name": "Python 3",
   "language": "python",
   "name": "python3"
  },
  "language_info": {
   "codemirror_mode": {
    "name": "ipython",
    "version": 3
   },
   "file_extension": ".py",
   "mimetype": "text/x-python",
   "name": "python",
   "nbconvert_exporter": "python",
   "pygments_lexer": "ipython3",
   "version": "3.10.10"
  },
  "orig_nbformat": 4
 },
 "nbformat": 4,
 "nbformat_minor": 2
}
