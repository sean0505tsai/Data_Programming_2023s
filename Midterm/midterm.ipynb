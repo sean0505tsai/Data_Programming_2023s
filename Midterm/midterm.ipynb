{
 "cells": [
  {
   "attachments": {},
   "cell_type": "markdown",
   "metadata": {},
   "source": [
    "## 1\n",
    "下列運算式，那些無法正確地執行?(複選)  \n",
    "- A) 123 + '456' \n",
    "- B) int('123.4') \n",
    "- C) str(123) + '456' \n",
    "- D) 123 + int('456') \n",
    "- E) '123' + '456' \n",
    "- F) False + 2  \n",
    "\n",
    "Ans: AB"
   ]
  },
  {
   "cell_type": "code",
   "execution_count": 6,
   "metadata": {},
   "outputs": [
    {
     "name": "stdout",
     "output_type": "stream",
     "text": [
      "123456\n",
      "579\n",
      "123456\n",
      "2\n"
     ]
    }
   ],
   "source": [
    "print(str(123)+'456')\n",
    "print(123+int('456'))\n",
    "print('123'+'456')\n",
    "print(False+2)"
   ]
  },
  {
   "attachments": {},
   "cell_type": "markdown",
   "metadata": {},
   "source": [
    "## 2\n",
    "請寫出執行下列指令後的輸出結果: (請寫出完整內容，如果是字串請以單撇號('')圍住！)  \n",
    "<code>result = 'to be' or 'not to be'</code> --> result = ?"
   ]
  },
  {
   "cell_type": "code",
   "execution_count": 8,
   "metadata": {},
   "outputs": [
    {
     "name": "stdout",
     "output_type": "stream",
     "text": [
      "to be\n"
     ]
    }
   ],
   "source": [
    "result = 'to be' or 'not to be'\n",
    "print(result)"
   ]
  },
  {
   "attachments": {},
   "cell_type": "markdown",
   "metadata": {},
   "source": [
    "## 3\n",
    "已知 msg = '9621705834'，請填入下列提問的答案:\n",
    "- msg[:9]\n",
    "- msg[3:]\n",
    "- msg[::-1]\n",
    "- msg[0::2]"
   ]
  },
  {
   "cell_type": "code",
   "execution_count": 9,
   "metadata": {},
   "outputs": [
    {
     "name": "stdout",
     "output_type": "stream",
     "text": [
      "962170583\n",
      "1705834\n",
      "4385071269\n",
      "92753\n"
     ]
    }
   ],
   "source": [
    "msg = '9621705834'\n",
    "print(msg[:9])\n",
    "print(msg[3:])\n",
    "print(msg[::-1])\n",
    "print(msg[0::2])"
   ]
  },
  {
   "attachments": {},
   "cell_type": "markdown",
   "metadata": {},
   "source": [
    "## 4\n",
    "已知 lst = [1, 2, 3],  \n",
    "則下列哪些運算式，無法讓 lst 變成 [1, 2, 3, 4, 5]?\n",
    "- A) lst.append([4, 5])  X\n",
    "- B) lst.extend(4, 5)  X\n",
    "- C) lst + [4, 5]  V\n",
    "- D) lst.extend([4, 5])  V\n",
    "- E) lst.append(4).append(5)  X\n",
    "- F) lst.append(4, 5)  X"
   ]
  },
  {
   "cell_type": "code",
   "execution_count": 17,
   "metadata": {},
   "outputs": [
    {
     "ename": "TypeError",
     "evalue": "list.append() takes exactly one argument (2 given)",
     "output_type": "error",
     "traceback": [
      "\u001b[1;31m---------------------------------------------------------------------------\u001b[0m",
      "\u001b[1;31mTypeError\u001b[0m                                 Traceback (most recent call last)",
      "Cell \u001b[1;32mIn[17], line 2\u001b[0m\n\u001b[0;32m      1\u001b[0m lst \u001b[39m=\u001b[39m [\u001b[39m1\u001b[39m, \u001b[39m2\u001b[39m, \u001b[39m3\u001b[39m]\n\u001b[1;32m----> 2\u001b[0m lst\u001b[39m.\u001b[39;49mappend(\u001b[39m4\u001b[39;49m, \u001b[39m5\u001b[39;49m) \n\u001b[0;32m      3\u001b[0m \u001b[39mprint\u001b[39m(lst)\n",
      "\u001b[1;31mTypeError\u001b[0m: list.append() takes exactly one argument (2 given)"
     ]
    }
   ],
   "source": [
    "lst = [1, 2, 3]\n",
    "lst.append(4, 5) \n",
    "print(lst)"
   ]
  },
  {
   "attachments": {},
   "cell_type": "markdown",
   "metadata": {},
   "source": [
    "## 5\n",
    "<code>s1 = 'a~b~~c~~~d'</code>   \n",
    "為了方便檢視，假設 s1 字串中的 '~' 表示空格。  \n",
    "\n",
    "請問下列答案中，哪些是正確的？  \n",
    " A) len( s1.split(' ') ) = 4  # 單撇號間有一個空格。  7, X  \n",
    " B) len( s1.split() ) = 4  4, V  \n",
    " C) len( s1.split() ) = 7  4, V  \n",
    " D) len( s1.split(' ') ) = 7  # 單撇號間有一個空格。  7, V  "
   ]
  },
  {
   "cell_type": "code",
   "execution_count": 21,
   "metadata": {},
   "outputs": [
    {
     "name": "stdout",
     "output_type": "stream",
     "text": [
      "7\n",
      "4\n",
      "4\n",
      "7\n"
     ]
    }
   ],
   "source": [
    "s1 = 'a b  c   d'\n",
    "print(len( s1.split(' ') ))\n",
    "print(len( s1.split() ))\n",
    "print(len( s1.split() ))"
   ]
  },
  {
   "attachments": {},
   "cell_type": "markdown",
   "metadata": {},
   "source": [
    "## 6"
   ]
  },
  {
   "cell_type": "code",
   "execution_count": 22,
   "metadata": {},
   "outputs": [
    {
     "name": "stdout",
     "output_type": "stream",
     "text": [
      "2@13@24@3"
     ]
    }
   ],
   "source": [
    "for i in range(2, 5):\n",
    "\tprint(i, i-1, sep='@', end=\"\")"
   ]
  },
  {
   "attachments": {},
   "cell_type": "markdown",
   "metadata": {},
   "source": [
    "## 7"
   ]
  },
  {
   "cell_type": "code",
   "execution_count": 24,
   "metadata": {},
   "outputs": [
    {
     "name": "stdout",
     "output_type": "stream",
     "text": [
      "0\n",
      "1\n",
      "2\n",
      "3\n",
      "4\n",
      "5\n",
      "6\n"
     ]
    }
   ],
   "source": [
    "for i in range(7):\n",
    "    print(i)"
   ]
  },
  {
   "attachments": {},
   "cell_type": "markdown",
   "metadata": {},
   "source": [
    "## 8"
   ]
  },
  {
   "cell_type": "code",
   "execution_count": 27,
   "metadata": {},
   "outputs": [
    {
     "name": "stdout",
     "output_type": "stream",
     "text": [
      "0 是偶數！\n",
      "1 是奇數！\n",
      "2 是偶數！\n",
      "3 是奇數！\n",
      "4 是偶數！\n"
     ]
    }
   ],
   "source": [
    "for k in range(5):\n",
    "    if k % 2 == 0:\n",
    "        print(k, '是偶數！')\t\n",
    "    else:\n",
    "        print(k, '是奇數！')"
   ]
  },
  {
   "attachments": {},
   "cell_type": "markdown",
   "metadata": {},
   "source": [
    "## 9\n",
    "下列敘述何者有錯？  \n",
    " A) True + 'true'  \n",
    " B) True * 3  \n",
    " C) True + 1  \n",
    " D) False + 0.5  \n",
    " E) True + False  \n",
    "A"
   ]
  },
  {
   "cell_type": "code",
   "execution_count": 32,
   "metadata": {},
   "outputs": [
    {
     "name": "stdout",
     "output_type": "stream",
     "text": [
      "1\n"
     ]
    }
   ],
   "source": [
    "print(True + False)"
   ]
  },
  {
   "attachments": {},
   "cell_type": "markdown",
   "metadata": {},
   "source": [
    "## 10\n",
    "執行完下列程式碼後，請選出正確的選項。  \n",
    "<code>lst = [3, 9]  \n",
    "lst_1 = lst * 2  \n",
    "lst_2 = lst_1 + lst</code>\n",
    "\n",
    "- A) lst_1 = [6, 18] \n",
    "- B) lst_2 = [3, 9, 3, 9, 3, 9] \n",
    "- C) lst_2 = [9, 27] \n",
    "- D) lst_1 = [3, 9, 3, 9] \n",
    "\n",
    "> Ans: BD"
   ]
  },
  {
   "cell_type": "code",
   "execution_count": 33,
   "metadata": {},
   "outputs": [
    {
     "name": "stdout",
     "output_type": "stream",
     "text": [
      "[3, 9, 3, 9]\n",
      "[3, 9, 3, 9, 3, 9]\n"
     ]
    }
   ],
   "source": [
    "lst = [3, 9]  \n",
    "lst_1 = lst * 2  \n",
    "lst_2 = lst_1 + lst\n",
    "print(lst_1)\n",
    "print(lst_2)"
   ]
  },
  {
   "attachments": {},
   "cell_type": "markdown",
   "metadata": {},
   "source": [
    "## 11\n",
    "<code>a = 10; b = 3; c = 19  \n",
    "print(a, b, c, sep='~', end='')</code>  \n",
    "\n",
    "則上述程式碼的輸出會是: "
   ]
  },
  {
   "cell_type": "code",
   "execution_count": 34,
   "metadata": {},
   "outputs": [
    {
     "name": "stdout",
     "output_type": "stream",
     "text": [
      "10~3~19"
     ]
    }
   ],
   "source": [
    "a = 10; b = 3; c = 19  \n",
    "print(a, b, c, sep='~', end='')"
   ]
  },
  {
   "attachments": {},
   "cell_type": "markdown",
   "metadata": {},
   "source": [
    "## 12\n",
    "<code>\"1 + 2 ** 2 + 3 ** 3 + ... + 14 ** 14\"</code> = __"
   ]
  },
  {
   "cell_type": "code",
   "execution_count": 38,
   "metadata": {},
   "outputs": [
    {
     "name": "stdout",
     "output_type": "stream",
     "text": [
      "1\n",
      "4\n",
      "27\n",
      "256\n",
      "3125\n",
      "46656\n",
      "823543\n",
      "16777216\n",
      "387420489\n",
      "10000000000\n",
      "285311670611\n",
      "8916100448256\n",
      "302875106592253\n",
      "11112006825558016\n",
      "11424093749340453\n"
     ]
    }
   ],
   "source": [
    "sum = 0\n",
    "for i in range(1, 15):\n",
    "    print(i**i)\n",
    "    sum+=(i**i)\n",
    "print(sum)"
   ]
  },
  {
   "attachments": {},
   "cell_type": "markdown",
   "metadata": {},
   "source": [
    "## 13\n",
    "請算出 123456789**29 的計算結果，總共有幾位數: "
   ]
  },
  {
   "cell_type": "code",
   "execution_count": 41,
   "metadata": {},
   "outputs": [
    {
     "name": "stdout",
     "output_type": "stream",
     "text": [
      "235\n"
     ]
    }
   ],
   "source": [
    "print(len(str(123456789**29)))"
   ]
  },
  {
   "attachments": {},
   "cell_type": "markdown",
   "metadata": {},
   "source": [
    "## 14\n",
    "將 2023**28 的計算結果轉換成二進位的形式，請問該表示式中共有幾個 0:"
   ]
  },
  {
   "cell_type": "code",
   "execution_count": 45,
   "metadata": {},
   "outputs": [
    {
     "name": "stdout",
     "output_type": "stream",
     "text": [
      "10110101100000010000000100100111111111011010111010100011011111001111011100110001010100110000010101111001100101010001000011011001110010100001000110000001100111111011100001101001011000010001100010010000110110100000101011101100001111000001011000110110110101100110100011000101101011110011010010010010110100100001\n",
      "163\n"
     ]
    }
   ],
   "source": [
    "zeros = 0\n",
    "binary = str(bin(2023**28)[2:])\n",
    "for bit in binary:\n",
    "    if(bit == '0'):\n",
    "        zeros += 1\n",
    "print(bin(2023**28)[2:])\n",
    "print(zeros)"
   ]
  },
  {
   "attachments": {},
   "cell_type": "markdown",
   "metadata": {},
   "source": [
    "## 15\n",
    "<code>for x, y in zip([1, 2, 3], ['a', 'b', 'c', 'd']):  \n",
    "print(x, y, sep='~', end='!')</code>\n",
    "\n",
    "上述程式的輸出結果是:"
   ]
  },
  {
   "cell_type": "code",
   "execution_count": 46,
   "metadata": {},
   "outputs": [
    {
     "name": "stdout",
     "output_type": "stream",
     "text": [
      "1~a!2~b!3~c!"
     ]
    }
   ],
   "source": [
    "for x, y in zip([1, 2, 3], ['a', 'b', 'c', 'd']):  \n",
    "    print(x, y, sep='~', end='!')"
   ]
  },
  {
   "attachments": {},
   "cell_type": "markdown",
   "metadata": {},
   "source": [
    "## 16\n",
    "sum=?  \n",
    "result=?"
   ]
  },
  {
   "cell_type": "code",
   "execution_count": 47,
   "metadata": {},
   "outputs": [
    {
     "name": "stdout",
     "output_type": "stream",
     "text": [
      "15\n",
      "36\n"
     ]
    }
   ],
   "source": [
    "lst = [1, 3, 5, 7, 9, 11]\n",
    "sum = 0\n",
    "result = 0\n",
    "\n",
    "for k, v in enumerate(lst):\n",
    "    sum += k\n",
    "    result += v\n",
    "\n",
    "print(sum)\n",
    "print(result)"
   ]
  },
  {
   "attachments": {},
   "cell_type": "markdown",
   "metadata": {},
   "source": [
    "## 17(送分)\n",
    "已知 dct = {1: 8, 2: 5, 4: 11, 5: 3}  \n",
    "<hr> <img src='./images/ForEvaluateDictCode.jpg' /> <hr>  \n",
    "則執行完上述程式碼後:  \n",
    "\n",
    "- result1=  \n",
    "- result2=  \n",
    "- result3=  \n",
    "- result4=  \n",
    "- result5=  "
   ]
  },
  {
   "attachments": {},
   "cell_type": "markdown",
   "metadata": {},
   "source": [
    "## 18\n",
    "已知 dct1 = {1: 2, 2: 4, 3: 6, 5: 9}，則  \n",
    "dct1.get(3)=  \n",
    "dct1.get(0)= "
   ]
  },
  {
   "cell_type": "code",
   "execution_count": 48,
   "metadata": {},
   "outputs": [
    {
     "name": "stdout",
     "output_type": "stream",
     "text": [
      "6\n",
      "None\n"
     ]
    }
   ],
   "source": [
    "dct1 = {1: 2, 2: 4, 3: 6, 5: 9}\n",
    "print(dct1.get(3))\n",
    "print(dct1.get(0))"
   ]
  }
 ],
 "metadata": {
  "kernelspec": {
   "display_name": "Python 3",
   "language": "python",
   "name": "python3"
  },
  "language_info": {
   "codemirror_mode": {
    "name": "ipython",
    "version": 3
   },
   "file_extension": ".py",
   "mimetype": "text/x-python",
   "name": "python",
   "nbconvert_exporter": "python",
   "pygments_lexer": "ipython3",
   "version": "3.10.11"
  },
  "orig_nbformat": 4
 },
 "nbformat": 4,
 "nbformat_minor": 2
}
