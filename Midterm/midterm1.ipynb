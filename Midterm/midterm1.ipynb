{
 "cells": [
  {
   "attachments": {},
   "cell_type": "markdown",
   "metadata": {},
   "source": [
    "### 題目：1\n",
    "請寫 Python 程式印出下列圖形。(僅用print來逐字列印，不予給分！)  \n",
    "|    *|  \n",
    "|   **|  \n",
    "|  ***|  \n",
    "| ****|  \n",
    "| *****|  \n",
    "| ****|  \n",
    "|  ***|  \n",
    "|   **|  \n",
    "|    *|   "
   ]
  },
  {
   "cell_type": "code",
   "execution_count": 8,
   "metadata": {},
   "outputs": [
    {
     "name": "stdout",
     "output_type": "stream",
     "text": [
      "|    *|\n",
      "|   **|\n",
      "|  ***|\n",
      "| ****|\n",
      "|*****|\n",
      "| ****|\n",
      "|  ***|\n",
      "|   **|\n",
      "|    *|\n"
     ]
    }
   ],
   "source": [
    "for i in range(9):\n",
    "    if(i<5):\n",
    "        print('|' + ' '*(4-i) + '*'*(i+1) + '|')\n",
    "    else:\n",
    "        print('|' + ' '*(i-4) + '*'*(9-i) + '|')"
   ]
  },
  {
   "attachments": {},
   "cell_type": "markdown",
   "metadata": {},
   "source": [
    "### 題目：2\n",
    "#### 1)請印出如下格式的九九乘法表。  \n",
    "1x1=1 1x2= 2 1x3= 3 1x4= 4 1x5= 5 1x6= 6 1x7= 7 1x8= 8 1x9= 9  \n",
    "2x1=2 2x2= 4 2x3= 6 2x4= 8 2x5=10 2x6=12 2x7=14 2x8=16 2x9=18  \n",
    "3x1=3 3x2= 6 3x3= 9 3x4=12 3x5=15 3x6=18 3x7=21 3x8=24 3x9=27  \n",
    "4x1=4 4x2= 8 4x3=12 4x4=16 4x5=20 4x6=24 4x7=28 4x8=32 4x9=36  \n",
    "5x1=5 5x2=10 5x3=15 5x4=20 5x5=25 5x6=30 5x7=35 5x8=40 5x9=45  \n",
    "6x1=6 6x2=12 6x3=18 6x4=24 6x5=30 6x6=36 6x7=42 6x8=48 6x9=54  \n",
    "7x1=7 7x2=14 7x3=21 7x4=28 7x5=35 7x6=42 7x7=49 7x8=56 7x9=63  \n",
    "8x1=8 8x2=16 8x3=24 8x4=32 8x5=40 8x6=48 8x7=56 8x8=64 8x9=72  \n",
    "9x1=9 9x2=18 9x3=27 9x4=36 9x5=45 9x6=54 9x7=63 9x8=72 9x9=81  "
   ]
  },
  {
   "cell_type": "code",
   "execution_count": 9,
   "metadata": {},
   "outputs": [
    {
     "name": "stdout",
     "output_type": "stream",
     "text": [
      "1x1= 1 1x2= 2 1x3= 3 1x4= 4 1x5= 5 1x6= 6 1x7= 7 1x8= 8 1x9= 9 \n",
      "2x1= 2 2x2= 4 2x3= 6 2x4= 8 2x5=10 2x6=12 2x7=14 2x8=16 2x9=18 \n",
      "3x1= 3 3x2= 6 3x3= 9 3x4=12 3x5=15 3x6=18 3x7=21 3x8=24 3x9=27 \n",
      "4x1= 4 4x2= 8 4x3=12 4x4=16 4x5=20 4x6=24 4x7=28 4x8=32 4x9=36 \n",
      "5x1= 5 5x2=10 5x3=15 5x4=20 5x5=25 5x6=30 5x7=35 5x8=40 5x9=45 \n",
      "6x1= 6 6x2=12 6x3=18 6x4=24 6x5=30 6x6=36 6x7=42 6x8=48 6x9=54 \n",
      "7x1= 7 7x2=14 7x3=21 7x4=28 7x5=35 7x6=42 7x7=49 7x8=56 7x9=63 \n",
      "8x1= 8 8x2=16 8x3=24 8x4=32 8x5=40 8x6=48 8x7=56 8x8=64 8x9=72 \n",
      "9x1= 9 9x2=18 9x3=27 9x4=36 9x5=45 9x6=54 9x7=63 9x8=72 9x9=81 \n"
     ]
    }
   ],
   "source": [
    "# 1)\n",
    "def table9x9():\n",
    "    for r in range(1, 10):\n",
    "        for c in range(1, 10):\n",
    "            print(f\"{r}x{c}={r*c:2} \", end=\"\")        \n",
    "        print()\n",
    "\n",
    "table9x9()"
   ]
  },
  {
   "attachments": {},
   "cell_type": "markdown",
   "metadata": {},
   "source": [
    "#### 2)請將九九乘法表的內容存成二維的串列: table2d。"
   ]
  },
  {
   "cell_type": "code",
   "execution_count": 14,
   "metadata": {},
   "outputs": [
    {
     "name": "stdout",
     "output_type": "stream",
     "text": [
      "['1x1= 1', '1x2= 2', '1x3= 3', '1x4= 4', '1x5= 5', '1x6= 6', '1x7= 7', '1x8= 8', '1x9= 9']\n",
      "['2x1= 2', '2x2= 4', '2x3= 6', '2x4= 8', '2x5=10', '2x6=12', '2x7=14', '2x8=16', '2x9=18']\n",
      "['3x1= 3', '3x2= 6', '3x3= 9', '3x4=12', '3x5=15', '3x6=18', '3x7=21', '3x8=24', '3x9=27']\n",
      "['4x1= 4', '4x2= 8', '4x3=12', '4x4=16', '4x5=20', '4x6=24', '4x7=28', '4x8=32', '4x9=36']\n",
      "['5x1= 5', '5x2=10', '5x3=15', '5x4=20', '5x5=25', '5x6=30', '5x7=35', '5x8=40', '5x9=45']\n",
      "['6x1= 6', '6x2=12', '6x3=18', '6x4=24', '6x5=30', '6x6=36', '6x7=42', '6x8=48', '6x9=54']\n",
      "['7x1= 7', '7x2=14', '7x3=21', '7x4=28', '7x5=35', '7x6=42', '7x7=49', '7x8=56', '7x9=63']\n",
      "['8x1= 8', '8x2=16', '8x3=24', '8x4=32', '8x5=40', '8x6=48', '8x7=56', '8x8=64', '8x9=72']\n",
      "['9x1= 9', '9x2=18', '9x3=27', '9x4=36', '9x5=45', '9x6=54', '9x7=63', '9x8=72', '9x9=81']\n"
     ]
    }
   ],
   "source": [
    "# 2)\n",
    "table2d = []\n",
    "for i in range(1, 10):\n",
    "    table1d = []\n",
    "    for j in range(1, 10):\n",
    "        table1d.append(f\"{i}x{j}={i*j:2}\")\n",
    "    table2d.append(table1d)\n",
    "\n",
    "for table1d in table2d:\n",
    "    print(table1d)"
   ]
  },
  {
   "attachments": {},
   "cell_type": "markdown",
   "metadata": {},
   "source": [
    "#### 3)請顯示下列分散格式的 HTML 九九乘法表:\n",
    "<img src=\"RandomTable-9.jpg\" />"
   ]
  },
  {
   "cell_type": "code",
   "execution_count": null,
   "metadata": {},
   "outputs": [],
   "source": []
  },
  {
   "attachments": {},
   "cell_type": "markdown",
   "metadata": {},
   "source": [
    "### 題目：3\n",
    "已知訊息如下:  \n",
    "msg = \"Honesty is the best policy\"  \n",
    "請寫兩個 Python 函式來進行編碼與解碼的任務:(msg 先轉換成小寫，再進行轉換。)  \n",
    "encode(msg): 將 msg 進行簡易轉換加密編碼。  \n",
    "decode(cipher): 對加密的內容 cipher 進行解碼。  \n",
    "先印出 msg 加密後的內容，接著再印出加密內容的解碼結果。  \n",
    "\n",
    "簡易轉換密碼表如下:  \n",
    "a->r b->a c->l d->n e->z f->s g->j h->d i->f j->y  \n",
    "k->e l->k m->b n->i o->p p->t q->m r->c s->w t->x  \n",
    "u->o v->q w->v x->h y->g z->u   "
   ]
  },
  {
   "cell_type": "code",
   "execution_count": 33,
   "metadata": {},
   "outputs": [
    {
     "name": "stdout",
     "output_type": "stream",
     "text": [
      "lowered msg:  honesty is the best policy\n",
      "encoded msg:  dpizwxg fw xdz azwx tpkflg\n",
      "decoded msg:  honesty is the best policy\n"
     ]
    }
   ],
   "source": [
    "encode = \\\n",
    "'''\n",
    "a->r\n",
    "b->a\n",
    "c->l\n",
    "d->n\n",
    "e->z\n",
    "f->s\n",
    "g->j\n",
    "h->d\n",
    "i->f\n",
    "j->y  \n",
    "k->e\n",
    "l->k\n",
    "m->b\n",
    "n->i\n",
    "o->p\n",
    "p->t\n",
    "q->m\n",
    "r->c\n",
    "s->w\n",
    "t->x  \n",
    "u->o\n",
    "v->q\n",
    "w->v\n",
    "x->h\n",
    "y->g\n",
    "z->u   \n",
    "'''\n",
    "\n",
    "convert_table = {}\n",
    "lines = encode.split(\"\\n\")\n",
    "for line in lines:\n",
    "    if(\"->\" in line):\n",
    "        items = line.strip().split(\"->\")\n",
    "        convert_table.update({items[0]:items[1]})\n",
    "\n",
    "def encode(msg, convert_table):\n",
    "    out = \"\"\n",
    "    for char in msg:\n",
    "        if char == \" \":\n",
    "            out+=\" \"\n",
    "        else:\n",
    "            out += convert_table[char]\n",
    "    # print(out)\n",
    "    return out\n",
    "\n",
    "def decode(msg, convert_table):\n",
    "    out = ''\n",
    "    for char in msg:\n",
    "        if char == \" \":\n",
    "            out+=\" \"\n",
    "        else:\n",
    "            out += list(convert_table.keys())[list(convert_table.values()).index(char)]\n",
    "    return out\n",
    "\n",
    "msg = \"Honesty is the best policy\" \n",
    "msg_low = msg.lower()\n",
    "encoded = encode(msg_low, convert_table)\n",
    "decoded = decode(encoded, convert_table)\n",
    "print(\"lowered msg: \", msg_low)\n",
    "print(\"encoded msg: \", encoded)\n",
    "print(\"decoded msg: \", decoded)\n"
   ]
  },
  {
   "attachments": {},
   "cell_type": "markdown",
   "metadata": {},
   "source": [
    "### 題目：4\n",
    "檔案的搬移  \n",
    "請將下載的 zip 檔解壓縮，接著將其內的所有檔案，移到與該檔案副檔名相同的目錄中。  \n",
    "1)如果目錄不存在，請創建該目錄(一律以小寫來命名)，再進行搬移檔案的動作。  \n",
    "2)檔案存入該目錄時，請同將檔案更名為: \"原檔名-你的學號.原副檔名\"。  \n",
    "例如，假設學號是 54007，  \n",
    "a.txt -> ./txt/a-54007.txt,  \n",
    "b.jpg -> ./jpg/b-54007.jpg,  \n",
    "c.Dat -> ./dat/c-54007.Dat, 餘依此類推。  "
   ]
  },
  {
   "cell_type": "code",
   "execution_count": 49,
   "metadata": {},
   "outputs": [
    {
     "name": "stdout",
     "output_type": "stream",
     "text": [
      "['First.txt', 'Second.dat', 'Third.doc']\n"
     ]
    }
   ],
   "source": [
    "import os\n",
    "dir_0 = \"datafiles\"\n",
    "files = os.listdir(dir_0)\n",
    "for file in files:\n",
    "    dir = file.split(\".\")[1]\n",
    "    if(not os.path.isdir(dir)):\n",
    "        os.mkdir(f\"{dir_0}/{dir}\")\n",
    "    os.rename(f\"{dir_0}/{file}\", f\"{dir_0}/{dir}/{file}\")"
   ]
  },
  {
   "attachments": {},
   "cell_type": "markdown",
   "metadata": {},
   "source": [
    "### 題目：5\n",
    "請在政府資料開放平台上，使用關鍵字: \"高中職以上學校學生就學貸款統計\"，進行查訊。  \n",
    "請先取得其 csv 格式的檔案，可以直接使用 requests 讀回，或先下載回電腦，再進行後續的處理。  \n",
    "並將 105, 106 學年度的資料列印出來！  \n",
    "請寫 Python 程式來查詢上述的內容，查詢結果請以文字表格的形式呈現。  \n",
    "1) 學年度, 項目: 靠左;  \n",
    "2) 公立大專校院, 私立大專校院, 公立高中職, 私立高中職: 靠右，個位數對齊。  \n",
    "3) 每個欄位的內容與其左右邊界，至少要留一空白格的距離。  \n",
    "其中文字表格的產生，必須要能依據不同的資料內容，彈性的自我調整寬度，盡可能不要有人為的加入。  "
   ]
  },
  {
   "cell_type": "code",
   "execution_count": 50,
   "metadata": {},
   "outputs": [
    {
     "name": "stdout",
     "output_type": "stream",
     "text": [
      "[['學年度', '項目', '公立大專校院', '私立大專校院', '公立高中職', '私立高中職'], ['103', '貸款人次', '\"109', '394\"', '\"436', '770\"', '\"4', '398\"', '\"24', '791\"'], ['103', '貸款人數', '\"59', '798\"', '\"241', '866\"', '\"2', '661\"', '\"14', '929\"'], ['103', '貸款金額（元）', '\"3', '194', '603', '683\"', '\"19', '793', '570', '233\"', '\"53', '327', '034\"', '\"333', '273', '637\"'], ['104', '貸款人次', '\"106', '829\"', '\"420', '502\"', '\"2', '930\"', '\"19', '372\"'], ['104', '貸款人數', '\"58', '177\"', '\"232', '881\"', '\"1', '824\"', '\"11', '850\"'], ['104', '貸款金額（元）', '\"3', '147', '916', '118\"', '\"19', '005', '109', '029\"', '\"38', '848', '347\"', '\"261', '811', '819\"'], ['105', '貸款人次', '\"104', '715\"', '\"398', '043\"', '\"1', '912\"', '\"16', '758\"'], ['105', '貸款人數', '\"57', '000\"', '\"218', '142\"', '\"1', '231\"', '\"10', '269\"'], ['105', '貸款金額（元）', '\"3', '116', '891', '969\"', '\"18', '085', '706', '718\"', '\"30', '121', '995\"', '\"241', '351', '923\"'], ['106', '貸款人次', '\"101', '975\"', '\"369', '934\"', '\"1', '799\"', '\"15', '047\"'], ['106', '貸款人數', '\"55', '761\"', '\"207', '236\"', '\"1', '207\"', '\"9', '221\"'], ['106', '貸款金額（元）', '\"3', '050', '563', '927\"', '\"17', '059', '481', '420\"', '\"28', '449', '951\"', '\"223', '858', '543\"'], ['107', '貸款人次', '\"101', '712\"', '\"355', '929\"', '\"1', '871\"', '\"12', '839\"'], ['107', '貸款人數', '\"55', '300\"', '\"194', '300\"', '\"1', '213\"', '\"7', '976\"'], ['107', '貸款金額（元）', '\"3', '081', '251', '715\"', '\"16', '568', '087', '337\"', '\"30', '218', '923\"', '\"204', '349', '286\"'], ['']]\n"
     ]
    }
   ],
   "source": [
    "import requests\n",
    "url=\"https://ws.moe.edu.tw/001/Upload/4/relfile/0/4764/e2270c3b-2f9a-458b-b582-c661eb83aeb6.csv\"\n",
    "html = requests.get(url)\n",
    "lines = html.text.split('\\r\\n')\n",
    "result = []\n",
    "table = '<table>\\n'\n",
    "\n",
    "def make_entry(entry):\n",
    "    for item in entry:\n",
    "        pass\n",
    "\n",
    "for line in lines:\n",
    "    items = line.split(',')\n",
    "    result.append(items)\n",
    "\n",
    "# print(result)"
   ]
  }
 ],
 "metadata": {
  "kernelspec": {
   "display_name": "Python 3",
   "language": "python",
   "name": "python3"
  },
  "language_info": {
   "codemirror_mode": {
    "name": "ipython",
    "version": 3
   },
   "file_extension": ".py",
   "mimetype": "text/x-python",
   "name": "python",
   "nbconvert_exporter": "python",
   "pygments_lexer": "ipython3",
   "version": "3.10.11"
  },
  "orig_nbformat": 4
 },
 "nbformat": 4,
 "nbformat_minor": 2
}
