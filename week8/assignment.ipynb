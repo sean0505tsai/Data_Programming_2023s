{
 "cells": [
  {
   "attachments": {},
   "cell_type": "markdown",
   "metadata": {},
   "source": [
    "### 題目：1\n",
    "簡易替換密碼(simple substitution cipher)實作:  \n",
    "底下有一組數字的替換密碼，  \n",
    "- 0->9\n",
    "- 1->5  \n",
    "- 2->7  \n",
    "- 3->1  \n",
    "- 4->6  \n",
    "- 5->8  \n",
    "- 6->4  \n",
    "- 7->2  \n",
    "- 8->3  \n",
    "- 9->0  \n",
    "\n",
    "經上述替換密碼表轉換後，生成資訊如下:  \n",
    "> \"811677571688881167751881\"。\n",
    "\n",
    "請針對上述替換表格，寫一Python程式，來完成對生成訊息的解碼。  \n",
    "(*因為密碼訊息是字串格式，所以用 dict 來建立解碼表應該比較方便。)   "
   ]
  },
  {
   "cell_type": "code",
   "execution_count": 12,
   "metadata": {},
   "outputs": [
    {
     "name": "stdout",
     "output_type": "stream",
     "text": [
      "355422825433335542285335\n"
     ]
    }
   ],
   "source": [
    "encode = \\\n",
    "\"\"\"\n",
    "0->9\n",
    "1->5\n",
    "2->7\n",
    "3->1\n",
    "4->6\n",
    "5->8\n",
    "6->4\n",
    "7->2\n",
    "8->3\n",
    "9->0\n",
    "\"\"\"\n",
    "\n",
    "convert_table = {}\n",
    "lines = encode.split(\"\\n\")\n",
    "for line in lines:\n",
    "    if(\"->\" in line):\n",
    "        items = line.strip().split(\"->\")\n",
    "        convert_table.update({items[0]:items[1]})\n",
    "\n",
    "encoded_msg = \"811677571688881167751881\"\n",
    "decoded_msg = \"\"\n",
    "for bit in encoded_msg:\n",
    "    decoded_msg += convert_table[bit]\n",
    "print(decoded_msg)"
   ]
  },
  {
   "attachments": {},
   "cell_type": "markdown",
   "metadata": {},
   "source": [
    "### 題目：2\n",
    "OpenData  \n",
    "請上 政府資料開放平台(https://data.gov.tw/)，查詢並分析相關的資料。  \n",
    "查詢項目:\"教育部補助全國大專校院經費\"，109學年度，並請引用 csv 的資料。  \n",
    "請找出並將 \"補助計畫\" 欄中，屬於 \"資訊與科技教育行政及督導\" 項目的所有資料，  \n",
    "以 HTML 的表格(table)形式印出來，其中表格第一列，及其後的每 10 筆資料後，均請填入欄位的訊息。  "
   ]
  },
  {
   "cell_type": "code",
   "execution_count": 10,
   "metadata": {},
   "outputs": [],
   "source": [
    "import requests\n",
    "url = \"https://ws.moe.edu.tw/001/Upload/14/relfile/7123/84265/181a5a50-1878-4d35-9452-ae2bb630e376.csv\"\n",
    "html = requests.get(url)\n",
    "# with open(\"html.txt\", 'w', encoding='utf-8') as fp:\n",
    "#     fp.write(html.text)\n",
    "lines = html.text.split('\\r\\n')\n",
    "result = []\n",
    "table = '<table>\\n'\n",
    "\n",
    "for line in lines:\n",
    "    items = line.split(',')\n",
    "    if(len(items) == 4 and \"資訊與科技教育行政及督導\" in items[2]):\n",
    "        result.append(items)\n",
    "        # print(items)\n",
    "\n",
    "for entry in result:\n",
    "    table += '\\t<tr>\\n'\n",
    "    for item in entry:\n",
    "        table += f'\\t\\t<th>{item}</th>\\n'\n",
    "    table += '\\t</tr>\\n'\n",
    "\n",
    "table += \"</table>\"\n",
    "\n",
    "with open('table_csv.html', 'w', encoding='utf-8') as fp:\n",
    "    fp.write(table)\n",
    "# print(table)"
   ]
  },
  {
   "attachments": {},
   "cell_type": "markdown",
   "metadata": {},
   "source": [
    "### 題目：3\n",
    "OpenData  \n",
    "請嘗試下載 json 格式的資料(透過直接引用，或先下載存檔)，  \n",
    "使用該 json 資料呈現與上一題相同的輸出網頁。   "
   ]
  },
  {
   "cell_type": "code",
   "execution_count": 9,
   "metadata": {},
   "outputs": [],
   "source": [
    "import json\n",
    "url = \"https://quality.data.gov.tw/dq_download_json.php?nid=14536&md5_url=2bf3ad7155adda77f271235ae004ecbc\"\n",
    "html = requests.get(url)\n",
    "datas = json.loads(html.text)\n",
    "table = \"<table>\\n\"\n",
    "for data in datas:\n",
    "    if(\"資訊與科技教育行政及督導\" in data['補助計畫']):\n",
    "        table += '\\t<tr>\\n'\n",
    "        for item in data:\n",
    "            table += f'\\t\\t<th>{data[item]}</th>\\n'\n",
    "        table += '\\t</tr>\\n'\n",
    "\n",
    "table += \"</table>\"\n",
    "\n",
    "with open('table_json.html', 'w', encoding='utf-8') as fp:\n",
    "    fp.write(table)\n",
    "# print(table)\n"
   ]
  }
 ],
 "metadata": {
  "kernelspec": {
   "display_name": "Python 3",
   "language": "python",
   "name": "python3"
  },
  "language_info": {
   "codemirror_mode": {
    "name": "ipython",
    "version": 3
   },
   "file_extension": ".py",
   "mimetype": "text/x-python",
   "name": "python",
   "nbconvert_exporter": "python",
   "pygments_lexer": "ipython3",
   "version": "3.10.11"
  },
  "orig_nbformat": 4
 },
 "nbformat": 4,
 "nbformat_minor": 2
}
