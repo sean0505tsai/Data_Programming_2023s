{
 "cells": [
  {
   "attachments": {},
   "cell_type": "markdown",
   "metadata": {},
   "source": [
    "#### 題目：1\n",
    "請完成下列目錄結構的建置。\n",
    "\n",
    "請寫 Python 程式，將下列的目錄結構轉換成路徑的字串。<br>\n",
    "例如，my_data/jpg, my_data/python/py 等等。\n",
    "\n",
    "---\n",
    "\tmy_data  \n",
    "\t\tjpg  \n",
    "\t\tpng   \n",
    "\t\tgif  \n",
    "\t\tdata  \n",
    "\t\t\ttxt   \n",
    "\t\t\tdat  \n",
    "\t\tpython  \n",
    "\t\t\tpy  \n",
    "\t\t\tipynb  \n",
    "\n",
    "輸出:<br>\n",
    "my_data<br>\n",
    "my_data/jpg<br>\n",
    "my_data/png<br>\n",
    "my_data/gif<br>\n",
    "my_data/data<br>\n",
    "my_data/data/txt<br>\n",
    "my_data/data/dat<br>\n",
    "my_data/python<br>\n",
    "my_data/python/py<br>\n",
    "my_data/python/ipynb<br>"
   ]
  },
  {
   "cell_type": "code",
   "execution_count": 3,
   "metadata": {},
   "outputs": [],
   "source": [
    "fname = \"./PathTreeStructure.txt\"\n",
    "with open(fname, \"r\", encoding='utf-8') as fp:\n",
    "    lines = fp.read()\n",
    "    lines = lines.split('\\n')\n",
    "# ['my_data', '\\tjpg', '\\tpng', '\\tgif', '\\tdata', '\\t\\ttxt', '\\t\\tdat', '\\tpython', '\\t\\tpy', '\\t\\tipynb']\n",
    "\n",
    "directories = []\n",
    "dir1 = \"\"\n",
    "dir2 = \"\"\n",
    "dir3 = \"\"\n",
    "indent_count = 0\n",
    "for line in lines:\n",
    "    if(line[0]!=\"\\t\"):\n",
    "        dir1 = line\n",
    "        directories.append(dir1)\n",
    "\n",
    "    if(line[0] == \"\\t\" and line[1] != \"\\t\"):\n",
    "        dir2 = line\n",
    "        dir3 = \"\"\n",
    "        directories.append(dir1 + \"/\" + dir2[1:])\n",
    "\n",
    "    if(line[1]==\"\\t\"):\n",
    "        dir3 = line\n",
    "        directories.append(dir1 + \"/\" + dir2[1:] + \"/\" + dir3[2:])\n",
    "\n",
    "with open('path.txt', \"w\", encoding='utf-8') as fp:\n",
    "    fp.writelines('\\n'.join(directories))"
   ]
  },
  {
   "attachments": {},
   "cell_type": "markdown",
   "metadata": {},
   "source": [
    "#### 題目：2\n",
    "請利用上一題建立的目錄字串，配合 os.mkdir 來建置整個的目錄樹。  \n",
    "(* import os, 然後使用 os.mkdir(path) 來建立目錄，要提供完整的 path。) "
   ]
  },
  {
   "cell_type": "code",
   "execution_count": 5,
   "metadata": {},
   "outputs": [],
   "source": [
    "import os\n",
    "fname = \"./path.txt\"\n",
    "with open(fname, \"r\", encoding='utf-8') as fp:\n",
    "    lines = fp.read()\n",
    "    lines = lines.split('\\n')\n",
    "\n",
    "for line in lines:\n",
    "    os.mkdir(line)"
   ]
  },
  {
   "attachments": {},
   "cell_type": "markdown",
   "metadata": {},
   "source": [
    "#### 題目：3\n",
    "請先將上述目錄字串，以 dict 的形式來加以儲存:  \n",
    "1. 如果最終結點不包含子目錄，就以 {}，即空 dict 表示；\n",
    "2. 如果包含子目錄，就再以 dict 來儲存子目錄的內容。  \n",
    "  例如，'dir_name': {}  or 'dir_name': {'subdir1': \"\", 'sundir2': \"\"}。"
   ]
  },
  {
   "cell_type": "code",
   "execution_count": 18,
   "metadata": {},
   "outputs": [
    {
     "name": "stdout",
     "output_type": "stream",
     "text": [
      "{'my_data': {'jpg': {}, 'png': {}, 'gif': {}, 'data': {'txt': {}, 'dat': {}}, 'python': {'py': {}, 'ipynb': {}}}}\n"
     ]
    }
   ],
   "source": [
    "import os\n",
    "fname = \"./path.txt\"\n",
    "with open(fname, \"r\", encoding='utf-8') as fp:\n",
    "    lines = fp.read()\n",
    "    lines = lines.split('\\n')\n",
    "    \n",
    "dirs = {}\n",
    "depth = 0\n",
    "\n",
    "# dirs={\"my_data\":{\"jpg\":{}, \"png\":{}, \"gif\":{}, \"data\":{\"txt\":{}, \"dat\":{}}, \"python\":{\"py\":{}, \"ipynb\":{}}}}\n",
    "\n",
    "for line in lines:\n",
    "    # print(line)\n",
    "    dir = line.split(\"/\")\n",
    "    current = dirs      # 回第一層 \n",
    "    # print(current)\n",
    "    for folder in dir:\n",
    "        if(folder in current):\n",
    "            current = current[folder]       # 進到下一層\n",
    "        else:\n",
    "            current.update({folder:{}})\n",
    "\n",
    "print(dirs)"
   ]
  },
  {
   "attachments": {},
   "cell_type": "markdown",
   "metadata": {},
   "source": [
    "#### 題目：4\n",
    "請建立 Vector3 類別，需要給三個分量 <x, y, z> 的值。  \n",
    "並完成向量的 +, -, *(cross向量積 與 分量乘值)的計算與顯示。  \n",
    "- 相加: <x1, y1, z1> + <x2, y2, z2> = <x1+x2, y1+y2, z1+z2>  \n",
    "- 相減: <x1, y1, z1> - <x2, y2, z2> = <x1-x2, y1-y2, z1-z2>  \n",
    "- 相乘:\n",
    "1) <x1, y1, z1> * <x2, y2, z2> = <y1*z2-y2*z1, x2*z1-x1*z2, x1*y2-x2*y1>  \n",
    "2) <x1, y1, z1> * n = <n*x1, n*y1, n*z1>, 其中 n 是數字  \n",
    "3) n * <x1, y1, z1> = <n*x1, n*y1, n*z1>  \n",
    "( 需要實作下列的方法: __add__, __sub__, __mul__, __rmul__。)  \n",
    "\t  \n",
    "---\n",
    "若已知 A = <2, 6, 7>, B = <3, 5, 2>，\n",
    "請完成下列計算，並印出計算的結果:\n",
    "1. A + B\n",
    "2. A - B\n",
    "3. A * B\n",
    "4. A * 3.0\n",
    "5. 4 * B\n",
    "6. A * B + B * A "
   ]
  },
  {
   "cell_type": "code",
   "execution_count": 3,
   "metadata": {},
   "outputs": [
    {
     "name": "stdout",
     "output_type": "stream",
     "text": [
      "<5, 11, 9>\n",
      "<-1, 1, 5>\n",
      "<-23, 17, -8>\n",
      "<6, 18, 21>\n",
      "<0, 0, 0>\n",
      "<6, 18, 21>\n"
     ]
    }
   ],
   "source": [
    "class Vector3:\n",
    "    def __init__(self, a = 0, b = 0, c = 0):\n",
    "        self.x = a\n",
    "        self.y = b\n",
    "        self.z = c\n",
    "    \n",
    "    def __add__(self, other):\n",
    "        x = self.x + other.x\n",
    "        y = self.y + other.y\n",
    "        z = self.z + other.z\n",
    "        return Vector3(x, y, z)\n",
    "\n",
    "    def __sub__(self, other):\n",
    "        x = self.x - other.x\n",
    "        y = self.y - other.y\n",
    "        z = self.z - other.z\n",
    "        return Vector3(x, y, z)\n",
    "    \n",
    "    def __mul__(self, other):\n",
    "        if isinstance(other, Vector3):\n",
    "            x = self.y*other.z - other.y*self.z     # y1z2 - y2z1\n",
    "            y = self.z*other.x - other.z*self.x     # z1x2 - z2x1\n",
    "            z = self.x*other.y - other.x*self.y     # x1y2 - x2y1\n",
    "        elif isinstance(other, int) or isinstance(other, float):\n",
    "            x = self.x * other\n",
    "            y = self.y * other\n",
    "            z = self.z * other\n",
    "        return Vector3(x, y, z)\n",
    "    \n",
    "    def __rmul__(self, other):\n",
    "        if isinstance(other, int) or isinstance(other, float):\n",
    "            x = self.x * other\n",
    "            y = self.y * other\n",
    "            z = self.z * other\n",
    "        return Vector3(x, y, z)\n",
    "\n",
    "    def show(self):\n",
    "        print(f\"<{self.x}, {self.y}, {self.z}>\")\n",
    "    \n",
    "A = Vector3(2, 6, 7)\n",
    "B = Vector3(3, 5, 2)\n",
    "V1 = A + B\n",
    "V2 = A - B\n",
    "V3 = A * B\n",
    "V4 = A * 3\n",
    "V5 = A*B + B*A\n",
    "V1.show()\n",
    "V2.show()\n",
    "V3.show()\n",
    "V4.show()\n",
    "V5.show()\n",
    "        "
   ]
  }
 ],
 "metadata": {
  "kernelspec": {
   "display_name": "Python 3",
   "language": "python",
   "name": "python3"
  },
  "language_info": {
   "codemirror_mode": {
    "name": "ipython",
    "version": 3
   },
   "file_extension": ".py",
   "mimetype": "text/x-python",
   "name": "python",
   "nbconvert_exporter": "python",
   "pygments_lexer": "ipython3",
   "version": "3.10.10"
  },
  "orig_nbformat": 4
 },
 "nbformat": 4,
 "nbformat_minor": 2
}
