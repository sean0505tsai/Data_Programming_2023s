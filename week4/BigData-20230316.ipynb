{
 "cells": [
  {
   "cell_type": "code",
   "execution_count": 1,
   "metadata": {
    "collapsed": true
   },
   "outputs": [
    {
     "name": "stdout",
     "output_type": "stream",
     "text": [
      "2020-0201\n",
      "2020-0208\n",
      "2020-0215\n",
      "2020-0222\n",
      "2020-0229\n",
      "2020-02-01 00:00:00\n"
     ]
    }
   ],
   "source": [
    "#import datetime as dt\n",
    "from datetime import datetime, timedelta\n",
    "\n",
    "#print( dir(timedelta) )\n",
    "#print( help(timedelta.days) )\n",
    "\n",
    "#'''\n",
    "theday = datetime(2020,2,1,0,0,0)  # Y(y),m,d,H,M,S\n",
    "for i in range(5):\n",
    "    #print((theday + timedelta(days=7*i)).strftime(\"%Y-%m%d\"))\n",
    "    print((theday + timedelta(weeks=i)).strftime(\"%Y-%m%d\"))\n",
    "print(theday)\n",
    "\n",
    "# print(dir(dict))\n",
    "#'''"
   ]
  },
  {
   "cell_type": "code",
   "execution_count": 6,
   "metadata": {},
   "outputs": [
    {
     "name": "stdout",
     "output_type": "stream",
     "text": [
      "abcabcabc\n",
      "abcabc\n"
     ]
    }
   ],
   "source": [
    "print(\"abc\" * 3)\n",
    "print(2 * \"abc\")"
   ]
  },
  {
   "cell_type": "code",
   "execution_count": 18,
   "metadata": {
    "collapsed": true
   },
   "outputs": [
    {
     "name": "stdout",
     "output_type": "stream",
     "text": [
      "1 2 3 4 5 6 7 8 9 10 11 12 13 14 \n",
      "  1   2   3   4   5   6   7   8   9  10  11  12  13  14 \n",
      "  1   2   3   4 \n",
      "  5   6   7   8 \n",
      "  9  10  11  12 \n",
      " 13  14 \n",
      "          1   2 \n",
      "  3   4   5   6 \n",
      "  7   8   9  10 \n",
      " 11  12  13  14 \n"
     ]
    }
   ],
   "source": [
    "# for % operator: show the month calendar\n",
    "cols = 4\n",
    "for i in range(1, 15):\n",
    "    print(i, end=\" \")\n",
    "print()    \n",
    "    \n",
    "for i in range(1, 15):\n",
    "    print(f\"{i:3}\", end=\" \")\n",
    "print()\n",
    "    \n",
    "for i in range(1, 15):\n",
    "    print(f\"{i:3}\", end=\" \")\n",
    "    if i % cols == 0:\n",
    "        print()\n",
    "print()\n",
    "\n",
    "cols = 4\n",
    "skip = -2\n",
    "skip = abs(skip) % cols\n",
    "count = 0\n",
    "for i in range(1-skip, 15):\n",
    "    count += 1\n",
    "    if i < 1: \n",
    "        print(\" \" * 3, end=\" \")\n",
    "        continue\n",
    "    print(f\"{i:3}\", end=\" \")\n",
    "    if count % cols == 0:\n",
    "        print()        "
   ]
  },
  {
   "cell_type": "code",
   "execution_count": 29,
   "metadata": {},
   "outputs": [
    {
     "name": "stdout",
     "output_type": "stream",
     "text": [
      "<class 'bytes'>\n",
      "<class 'bytes'>\n",
      "bytearray(b'123\\xe6\\x95\\xb8\\xe5\\xad\\x97\\xe4\\xb8\\xad\\xe8\\x8b\\xb1\\xe6\\x96\\x87XYZ')\n",
      "bytearray(b'>=<\\xe9\\x9a\\xb7\\xea\\xa2\\x98\\xeb\\xb7\\xa2\\xe7\\x84\\xbe\\xe9\\x99\\x88WVU')\n",
      "bytearray(b'123\\xe6\\x95\\xb8\\xe5\\xad\\x97\\xe4\\xb8\\xad\\xe8\\x8b\\xb1\\xe6\\x96\\x87XYZ')\n",
      "123數字中英文XYZ\n"
     ]
    }
   ],
   "source": [
    "bmsg = b'abcd1235'  # bytes, bytes can only contain ASCII literal characters\n",
    "#print(bmsg + '123')\n",
    "print(type(bmsg))\n",
    "\n",
    "bmsg = '123數字中英文XYZ'.encode('utf-8') # str > bytes, encode needed\n",
    "print(type(bmsg))\n",
    "\n",
    "#bmsg[0] ^= 0xf0  # NG\n",
    "#for b in bmsg:\n",
    "#    print(b)\n",
    "    \n",
    "bys = bytearray(bmsg)  # element type is int\n",
    "print(bys)\n",
    "\n",
    "for i in range(len(bys)):\n",
    "    bys[i] ^= 0x0f\n",
    "print(bys)  # save to readme.txt\n",
    "\n",
    "for i in range(len(bys)):\n",
    "    bys[i] ^= 0x0f\n",
    "print(bys)\n",
    "\n",
    "print(bys.decode())  # 解碼"
   ]
  },
  {
   "cell_type": "code",
   "execution_count": 32,
   "metadata": {},
   "outputs": [
    {
     "name": "stdout",
     "output_type": "stream",
     "text": [
      "<3, 4, 5>\n",
      "<1, 2, 3>\n",
      "<6, 8, 10>\n"
     ]
    }
   ],
   "source": [
    "# double under score\n",
    "class Vector3:\n",
    "    def __init__(self, x=0, y=0, z=0):\n",
    "        self.x = x\n",
    "        self.y = y\n",
    "        self.z = z\n",
    "        \n",
    "    def __add__(self, other):\n",
    "        x = self.x + other.x\n",
    "        y = self.y + other.y\n",
    "        z = self.z + other.z\n",
    "        return Vector3(x, y, z)\n",
    "    \n",
    "    def __sub__(self, other):\n",
    "        x = self.x - other.x\n",
    "        y = self.y - other.y\n",
    "        z = self.z - other.z\n",
    "        return Vector3(x, y, z)\n",
    "    \n",
    "    def __cross__(self, other):\n",
    "        if isinstance(other, Vector3):\n",
    "            x = self.y*other.z - other.y*self.z     # y1z2 - y2z1\n",
    "            y = self.z*other.x - other.z*self.x     # z1x2 - z2x1\n",
    "            z = self.x*other.y - other.x*self.y     # x1y2 - x2y1\n",
    "        elif isinstance(other, int) or isinstance(other, float):\n",
    "            x = self.x * other\n",
    "            y = self.y * other\n",
    "            z = self.z * other\n",
    "        return Vector3(x, y, z)    \n",
    "        \n",
    "    def show(self):\n",
    "        print(f\"<{self.x}, {self.y}, {self.z}>\")\n",
    "    \n",
    "v1 = Vector3(3, 4, 5)\n",
    "v2 = Vector3(1, 2, 3)\n",
    "#v12 = v1 - v2\n",
    "v12 = v1 * 2\n",
    "v1.show()\n",
    "v2.show()\n",
    "v12.show() "
   ]
  },
  {
   "cell_type": "code",
   "execution_count": 36,
   "metadata": {},
   "outputs": [
    {
     "name": "stdout",
     "output_type": "stream",
     "text": [
      "my_data\n",
      "\tjpg\n",
      "\tdata\n",
      "\t\ttxt\n",
      "\t\tdat\n"
     ]
    }
   ],
   "source": [
    "import os\n",
    "import shutil\n",
    "\n",
    "dirs = {'my_data': {'jpg':\"\", 'png':\"\", 'gif':\"\", 'data':{'txt':\"\", 'dat':\"\"}, \n",
    "                    'python':{'py':\"\", 'ipynb':\"\"}} }\n",
    "\n",
    "'''\n",
    "my_data\n",
    "\tjpg\n",
    "\tdata\n",
    "\t\ttxt\n",
    "\t\tdat\n",
    "'''\n",
    "dirs = {'my_data': {'jpg':\"\", 'data':{'txt':\"\", 'dat':\"\"}}}\n",
    "import os\n",
    "\n",
    "def show_dir0(dirs, header=\"\"):  # format in dict\n",
    "    for dk in dirs:\n",
    "        print(header, dk, sep='')\n",
    "        if isinstance(dirs[dk], dict):\n",
    "           show_dir0(dirs[dk], header + '\\t')\n",
    "\n",
    "show_dir0(dirs)\n",
    "\n",
    "#os.mkdir('my_data')\n",
    "#os.mkdir('my_data/jpg')\n",
    "#os.mkdir('my_data/data')\n",
    "#os.mkdir('my_data/data/txt')\n"
   ]
  }
 ],
 "metadata": {
  "kernelspec": {
   "display_name": "Python 3",
   "language": "python",
   "name": "python3"
  },
  "language_info": {
   "codemirror_mode": {
    "name": "ipython",
    "version": 3
   },
   "file_extension": ".py",
   "mimetype": "text/x-python",
   "name": "python",
   "nbconvert_exporter": "python",
   "pygments_lexer": "ipython3",
   "version": "3.10.10"
  }
 },
 "nbformat": 4,
 "nbformat_minor": 4
}
