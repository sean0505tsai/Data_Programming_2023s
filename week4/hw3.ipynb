{
 "cells": [
  {
   "attachments": {},
   "cell_type": "markdown",
   "metadata": {},
   "source": [
    "#### 題目：1\n",
    "timedelta的引用<br>\n",
    "引用的方式: from datetime import timedelta<br>\n",
    "請寫 Python 程式，印出\"數據程式設計\"課程，全部 18 週上課的日期。<br>\n",
    "例如，本(111-2)學期開學第一週的上課日期為: 2023-0223。<br>\n",
    "2023-0223<br>\n",
    "2023-0302<br>\n",
    "...<br>\n",
    "\n",
    "共 18 週的日期。"
   ]
  },
  {
   "cell_type": "code",
   "execution_count": 14,
   "metadata": {},
   "outputs": [
    {
     "name": "stdout",
     "output_type": "stream",
     "text": [
      "2023-0223\n",
      "2023-0302\n",
      "2023-0309\n",
      "2023-0316\n",
      "2023-0323\n",
      "2023-0330\n",
      "2023-0406\n",
      "2023-0413\n",
      "2023-0420\n",
      "2023-0427\n",
      "2023-0504\n",
      "2023-0511\n",
      "2023-0518\n",
      "2023-0525\n",
      "2023-0601\n",
      "2023-0608\n",
      "2023-0615\n",
      "2023-0622\n"
     ]
    }
   ],
   "source": [
    "from datetime import datetime, timedelta\n",
    "\n",
    "classDay = datetime(2023,2,23,0,0,0)  # Y(y),m,d,H,M,S\n",
    "for i in range(18):\n",
    "    print((classDay + timedelta(weeks=i)).strftime(\"%Y-%m%d\"))"
   ]
  },
  {
   "attachments": {},
   "cell_type": "markdown",
   "metadata": {},
   "source": [
    "#### 題目：2\n",
    "有一個經過加密的檔案 ReadMe.txt，請嘗試破解出其中的訊息。<br>\n",
    "該檔案內容的編碼是 utf-8，且每個 byte 都與同樣的 code 進行 xor(互斥或)的運算，<br>\n",
    "再重新儲存成 ReadMe.txt。<br>\n",
    "請試著找出該 code，來再次與內容逐 byte 進行 xor 運算，還原正確的訊息。<br>\n",
    "* ^(xor)的性質: <br>\n",
    "假設 A' = not A, A and B = A & B = AB, A or B = A | B = A + B,\n",
    "1. A xor B = A ^ B = A'B + AB' --> 相同為 0，相異為 1。\n",
    "2. 根據 1 )的規則，我們可以得到: x ^ 0 = x, x ^ 1 = x'\n",
    "3. a ^ c ^ c = a"
   ]
  },
  {
   "cell_type": "code",
   "execution_count": 2,
   "metadata": {},
   "outputs": [
    {
     "ename": "UnicodeDecodeError",
     "evalue": "'cp950' codec can't decode byte 0x86 in position 18: illegal multibyte sequence",
     "output_type": "error",
     "traceback": [
      "\u001b[1;31m---------------------------------------------------------------------------\u001b[0m",
      "\u001b[1;31mUnicodeDecodeError\u001b[0m                        Traceback (most recent call last)",
      "Cell \u001b[1;32mIn[2], line 2\u001b[0m\n\u001b[0;32m      1\u001b[0m f \u001b[39m=\u001b[39m \u001b[39mopen\u001b[39m(\u001b[39m\"\u001b[39m\u001b[39mReadMe.txt\u001b[39m\u001b[39m\"\u001b[39m, \u001b[39m\"\u001b[39m\u001b[39mr\u001b[39m\u001b[39m\"\u001b[39m)\n\u001b[1;32m----> 2\u001b[0m data \u001b[39m=\u001b[39m f\u001b[39m.\u001b[39;49mread()\n\u001b[0;32m      3\u001b[0m \u001b[39mprint\u001b[39m(data[\u001b[39m0\u001b[39m])\n\u001b[0;32m      4\u001b[0m \u001b[39m# for byte in data:\u001b[39;00m\n\u001b[0;32m      5\u001b[0m \u001b[39m#     print(byte)\u001b[39;00m\n",
      "\u001b[1;31mUnicodeDecodeError\u001b[0m: 'cp950' codec can't decode byte 0x86 in position 18: illegal multibyte sequence"
     ]
    }
   ],
   "source": [
    "f = open(\"ReadMe.txt\", \"r\")\n",
    "data = f.read()\n",
    "print(data[0])\n",
    "# for byte in data:\n",
    "#     print(byte)"
   ]
  },
  {
   "attachments": {},
   "cell_type": "markdown",
   "metadata": {},
   "source": [
    "#### 題目：3\n",
    "請建立 Vector3 類別，需要給三個分量(a, b, c)的值。<br>\n",
    "並完成向量的 +, -, *(cross向量積 與 分量乘值)的計算與顯示。<br>\n",
    "相加:  +  = <br>\n",
    "相減:  -  = <br>\n",
    "相乘:<br>\n",
    "1.  *  = <br>\n",
    "2.  * n = <br>\n",
    "* (* 需要實作下列的方法: __add__, __sub__, __mul__。)<br>\n",
    "\n",
    "若已知 A = <2, 6, 7>, B = <3, 5, 2>，<br>\n",
    "請完成下列計算，並印出計算的結果:<br>\n",
    "1. A + B\n",
    "2. A - B\n",
    "3. A * B\n",
    "4. A * 3 (not 3 * A)\n",
    "5. A * B + B * A "
   ]
  },
  {
   "cell_type": "code",
   "execution_count": 17,
   "metadata": {},
   "outputs": [
    {
     "name": "stdout",
     "output_type": "stream",
     "text": [
      "<5, 11, 9>\n",
      "<-1, 1, 5>\n",
      "<-23, 17, -8>\n",
      "<6, 18, 21>\n",
      "<0, 0, 0>\n"
     ]
    }
   ],
   "source": [
    "class Vector3:\n",
    "    def __init__(self, a = 0, b = 0, c = 0):\n",
    "        self.x = a\n",
    "        self.y = b\n",
    "        self.z = c\n",
    "    \n",
    "    def __add__(self, other):\n",
    "        x = self.x + other.x\n",
    "        y = self.y + other.y\n",
    "        z = self.z + other.z\n",
    "        return Vector3(x, y, z)\n",
    "\n",
    "    def __sub__(self, other):\n",
    "        x = self.x - other.x\n",
    "        y = self.y - other.y\n",
    "        z = self.z - other.z\n",
    "        return Vector3(x, y, z)\n",
    "    \n",
    "    def __mul__(self, other):\n",
    "        if isinstance(other, Vector3):\n",
    "            x = self.y*other.z - other.y*self.z     # y1z2 - y2z1\n",
    "            y = self.z*other.x - other.z*self.x     # z1x2 - z2x1\n",
    "            z = self.x*other.y - other.x*self.y     # x1y2 - x2y1\n",
    "        elif isinstance(other, int) or isinstance(other, float):\n",
    "            x = self.x * other\n",
    "            y = self.y * other\n",
    "            z = self.z * other\n",
    "        return Vector3(x, y, z)\n",
    "    \n",
    "    def show(self):\n",
    "        print(f\"<{self.x}, {self.y}, {self.z}>\")\n",
    "    \n",
    "A = Vector3(2, 6, 7)\n",
    "B = Vector3(3, 5, 2)\n",
    "V1 = A + B\n",
    "V2 = A - B\n",
    "V3 = A * B\n",
    "V4 = A * 3\n",
    "V5 = A*B + B*A\n",
    "V1.show()\n",
    "V2.show()\n",
    "V3.show()\n",
    "V4.show()\n",
    "V5.show()"
   ]
  },
  {
   "attachments": {},
   "cell_type": "markdown",
   "metadata": {},
   "source": [
    "#### 題目：4\n",
    "請完成下列目錄結構的建置。<br>\n",
    "1. 請先將下列目錄架構，以 dict 的形式來儲存:<br>\n",
    "   如果不包含子目錄，就以空字串表示；<br>\n",
    "   如果包含子目錄，就再以dict來儲存子目錄的內容。<br>\n",
    "   例如，'dir_name': \"\"  or 'dir_name': {'subdir1': \"\", 'sundir2': \"\"}。<br>\n",
    "2. 接著請寫 Python 程式，讀取該 dict，並完成目錄結構的建置。"
   ]
  },
  {
   "cell_type": "code",
   "execution_count": 18,
   "metadata": {},
   "outputs": [
    {
     "name": "stdout",
     "output_type": "stream",
     "text": [
      "{'my_data\\n': '\\tjpg\\n'}\n",
      "my_data\n",
      "\n",
      "\tjpg\n",
      "\n",
      "\tpng\n",
      "\n",
      "\tgif\n",
      "\n",
      "\tdata\n",
      "\n",
      "\tpython\n",
      "\n",
      "\t\ttxt\n",
      "\n",
      "\t\tdat\n",
      "\n",
      "\t\tpy\n",
      "\n",
      "\t\tipynb\n"
     ]
    }
   ],
   "source": [
    "import os\n",
    "import shutil\n",
    "\n",
    "def makedir1():\n",
    "    \n",
    "\n",
    "f = open(\"DirectoryStructure.txt\", \"r\")\n",
    "data = f.readlines()\n",
    "directory = {'my_data': {'jpg':\"\", 'png':\"\", 'gif':\"\", 'data':{'txt':\"\", 'dat':\"\"}, \n",
    "                    'python':{'py':\"\", 'ipynb':\"\"}} }\n",
    "\n",
    "directory[f\"{data[0]}\"] = f\"{data[1]}\"\n",
    "print(directory)\n",
    "\n",
    "for dir in data:\n",
    "    if(dir[0] != '\\t'):\n",
    "        print(dir)\n",
    "\n",
    "for dir2 in data:\n",
    "    if(dir2[0] == '\\t' and dir2[1] != '\\t'):\n",
    "        print(dir2)\n",
    "\n",
    "for dir3 in data:\n",
    "    if(dir3[1] == '\\t'):\n",
    "        print(dir3)\n",
    "\n",
    "# print(data[6])\n",
    "# os.makedirs(\"dir\")"
   ]
  }
 ],
 "metadata": {
  "kernelspec": {
   "display_name": "Python 3",
   "language": "python",
   "name": "python3"
  },
  "language_info": {
   "codemirror_mode": {
    "name": "ipython",
    "version": 3
   },
   "file_extension": ".py",
   "mimetype": "text/x-python",
   "name": "python",
   "nbconvert_exporter": "python",
   "pygments_lexer": "ipython3",
   "version": "3.10.10"
  },
  "orig_nbformat": 4
 },
 "nbformat": 4,
 "nbformat_minor": 2
}
